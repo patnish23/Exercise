{
 "cells": [
  {
   "cell_type": "markdown",
   "id": "4a77e910-83b5-4124-a913-b8399f7907f0",
   "metadata": {},
   "source": [
    "## Author\n",
    "Nishant Patel"
   ]
  },
  {
   "cell_type": "markdown",
   "id": "24ffd70c-6324-448d-8d68-fdb50c3bfaa7",
   "metadata": {},
   "source": [
    "# Data Science Tools and Ecosystem"
   ]
  },
  {
   "cell_type": "markdown",
   "id": "d3343157-e560-4b78-98f9-618667423678",
   "metadata": {},
   "source": [
    "#### In this notebook, Data Science Tools and Ecosystem are summarized."
   ]
  },
  {
   "cell_type": "markdown",
   "id": "6ef14a4f-a724-4780-a691-e690dbee1818",
   "metadata": {},
   "source": [
    "### Objectives :\n",
    "1. List of popular languages in Data Science\n",
    "2. List of common libraries used by Data Scientists\n",
    "3. List of tools used by Data Scientists"
   ]
  },
  {
   "cell_type": "markdown",
   "id": "f5d4421f-57bb-4969-bd73-199937e47bcf",
   "metadata": {},
   "source": [
    "####"
   ]
  },
  {
   "cell_type": "markdown",
   "id": "ae7cd07c-39cb-4fab-8576-8cfc64e0be19",
   "metadata": {},
   "source": [
    "#### Some of the popular languages that Data Scientists use are:"
   ]
  },
  {
   "cell_type": "markdown",
   "id": "c9d41e8b-e6df-494d-a462-96dd648b0a76",
   "metadata": {},
   "source": [
    "1. Python\n",
    "2. C++\n",
    "3. JAVA\n",
    "4. R"
   ]
  },
  {
   "cell_type": "markdown",
   "id": "e0bb8da5-b152-41e1-9519-b56f5949f1a3",
   "metadata": {},
   "source": [
    "#### Some of the commonly used libraries used by Data Scientists include:"
   ]
  },
  {
   "cell_type": "markdown",
   "id": "e662e707-fe77-464a-b62c-1ce36569ff11",
   "metadata": {},
   "source": [
    "1. NumPy\n",
    "2. SciPy\n",
    "3. Matplotlib\n",
    "4. TensorFlow"
   ]
  },
  {
   "cell_type": "markdown",
   "id": "4c95bf05-a2f0-4b9b-b0f6-4bdff5bb08fa",
   "metadata": {},
   "source": [
    "| Data Science Tools        |\n",
    "|------------------|\n",
    "| Apache Spark   |\n",
    "| Apache Hadoop |\n",
    "| Scikit-learn   |\n"
   ]
  },
  {
   "cell_type": "markdown",
   "id": "76e18041-5d06-4ac5-bed6-d3b4ca1ade79",
   "metadata": {},
   "source": [
    "### Below are a few examples of evaluating arithmetic expressions in Python"
   ]
  },
  {
   "cell_type": "code",
   "execution_count": 3,
   "id": "8e8c7f30-ffbd-45bd-8481-7741e27ac99e",
   "metadata": {},
   "outputs": [
    {
     "data": {
      "text/plain": [
       "17"
      ]
     },
     "execution_count": 3,
     "metadata": {},
     "output_type": "execute_result"
    }
   ],
   "source": [
    "#This a simple arithmetic expression to mutiply then add integers\n",
    "(3*4)+5"
   ]
  },
  {
   "cell_type": "code",
   "execution_count": 4,
   "id": "d4c4bffa-1901-4c34-a942-9c160c69b3c7",
   "metadata": {},
   "outputs": [
    {
     "data": {
      "text/plain": [
       "33.333333333333336"
      ]
     },
     "execution_count": 4,
     "metadata": {},
     "output_type": "execute_result"
    }
   ],
   "source": [
    "#This will convert 200 minutes to hours by diving by 60\n",
    "200/6"
   ]
  },
  {
   "cell_type": "code",
   "execution_count": null,
   "id": "8b7cd1d0-430d-4ae1-b95f-68b311f4001c",
   "metadata": {},
   "outputs": [],
   "source": []
  }
 ],
 "metadata": {
  "kernelspec": {
   "display_name": "Python 3 (ipykernel)",
   "language": "python",
   "name": "python3"
  },
  "language_info": {
   "codemirror_mode": {
    "name": "ipython",
    "version": 3
   },
   "file_extension": ".py",
   "mimetype": "text/x-python",
   "name": "python",
   "nbconvert_exporter": "python",
   "pygments_lexer": "ipython3",
   "version": "3.13.2"
  }
 },
 "nbformat": 4,
 "nbformat_minor": 5
}
